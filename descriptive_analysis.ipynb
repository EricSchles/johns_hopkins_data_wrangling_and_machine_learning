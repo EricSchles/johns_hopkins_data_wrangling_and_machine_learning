{
 "cells": [
  {
   "cell_type": "markdown",
   "id": "38181eef",
   "metadata": {},
   "source": [
    "# Descriptive Analysis\n",
    "\n",
    "The heart of statistics and machine learning is the ability to describe data.  In order to do that, we sometimes need to first turn that data into categories or numerical values.  This lecture assumes you already have your data in one of those two forms.\n",
    "\n",
    "From there the typical first step in analysis of data is to look at the central tendency and spread of your data, and make some data visualizations of the associated dataset.  \n",
    "\n",
    "Let us begin by generating some synthetic data and applying some standard methods of analysis to it.  \n",
    "\n",
    "# The Central Tendency\n",
    "\n",
    "To begin with we will look at the central tendency.  If we are dealing with numerical data, that follows a normal distribution (more on what that means in a bit) then we can expect the following mathematical model to hold for the central tendency:\n",
    "\n",
    "$$ 1/N \\sum_{i=0}^{i=N} X[i] $$\n",
    "\n",
    "Where X is the dataset, N is the number of elements in the dataset.  Let's look at an example, doing this in Python, with normally distributed data:"
   ]
  },
  {
   "cell_type": "code",
   "execution_count": 2,
   "id": "b9d2b078",
   "metadata": {},
   "outputs": [
    {
     "data": {
      "text/plain": [
       "0.055917152736664893"
      ]
     },
     "execution_count": 2,
     "metadata": {},
     "output_type": "execute_result"
    }
   ],
   "source": [
    "import numpy as np\n",
    "\n",
    "arr = np.random.normal(0, 10, size=100000)\n",
    "arr.mean()"
   ]
  },
  {
   "cell_type": "markdown",
   "id": "2a8bd52e",
   "metadata": {},
   "source": [
    "Notice that even with 100,000 samples we still don't recover the expected mean, which we know explicitly from the data generation process.  To get truly close to the expected mean of zero we will need many more samples.  We can visualize the convergence path that a normally distributed dataset takes as it gets increasingly close to zero for this distribution:"
   ]
  },
  {
   "cell_type": "code",
   "execution_count": 9,
   "id": "82d228f4",
   "metadata": {},
   "outputs": [
    {
     "data": {
      "text/plain": [
       "[<matplotlib.lines.Line2D at 0x7fdd42e7a3d0>]"
      ]
     },
     "execution_count": 9,
     "metadata": {},
     "output_type": "execute_result"
    },
    {
     "data": {
      "image/png": "[encoded data removed]",
      "text/plain": [
       "<Figure size 432x288 with 1 Axes>"
      ]
     },
     "metadata": {
      "needs_background": "light"
     },
     "output_type": "display_data"
    }
   ],
   "source": [
    "import matplotlib.pyplot as plt\n",
    "\n",
    "means = []\n",
    "indices = []\n",
    "for i in range(100, 1000000, 100):\n",
    "    arr = np.random.normal(0, 10, size=i)\n",
    "    means.append(arr.mean())\n",
    "    indices.append(i)\n",
    "plt.plot(indices, means)"
   ]
  },
  {
   "cell_type": "markdown",
   "id": "12b0c5fd",
   "metadata": {},
   "source": [
    "Similarly, if our data is normally distributed we can recover the spread of the data with the standard deviation or variance.  The data generating process we are using, makes use of the standard deviation, which is the square root of the variance.  We can equivalently see that the standard deviation does not equal the idealized value which we use for the data generation process: "
   ]
  },
  {
   "cell_type": "code",
   "execution_count": 10,
   "id": "242267bb",
   "metadata": {},
   "outputs": [
    {
     "data": {
      "text/plain": [
       "10.001081654655678"
      ]
     },
     "execution_count": 10,
     "metadata": {},
     "output_type": "execute_result"
    }
   ],
   "source": [
    "arr = np.random.normal(0, 10, size=100000)\n",
    "arr.std()"
   ]
  },
  {
   "cell_type": "markdown",
   "id": "3c2849e3",
   "metadata": {},
   "source": [
    "However, the value does converge as the samples get large enough:"
   ]
  },
  {
   "cell_type": "code",
   "execution_count": 12,
   "id": "0d9179db",
   "metadata": {},
   "outputs": [
    {
     "data": {
      "text/plain": [
       "[<matplotlib.lines.Line2D at 0x7fdd307e05b0>]"
      ]
     },
     "execution_count": 12,
     "metadata": {},
     "output_type": "execute_result"
    },
    {
     "data": {
      "image/png": "[encoded data removed]",
      "text/plain": [
       "<Figure size 432x288 with 1 Axes>"
      ]
     },
     "metadata": {
      "needs_background": "light"
     },
     "output_type": "display_data"
    }
   ],
   "source": [
    "import matplotlib.pyplot as plt\n",
    "\n",
    "standard_deviations = []\n",
    "indices = []\n",
    "for i in range(100, 100000, 100):\n",
    "    arr = np.random.normal(0, 10, size=i)\n",
    "    standard_deviations.append(arr.std())\n",
    "    indices.append(i)\n",
    "plt.plot(indices, standard_deviations)"
   ]
  },
  {
   "cell_type": "markdown",
   "id": "82fb428f",
   "metadata": {},
   "source": [
    "Notice that, even if you know your population and sample distribution, for small sample sizes, your sample descriptive statistics may not equal your population descriptive statistics, even if the variance is low.  That's why when calculating a descriptive statistic, especially on a small population, it's best to bootstrap or simulate a confidence interval for your descriptive statistics.  \n",
    "\n",
    "This does two things:\n",
    "\n",
    "1. Helps you understand how much outliers are effecting your description of the data\n",
    "2. Aids in approximating your population descriptive statistics.\n",
    "\n",
    "Because simulation requires more mathematics we will opt for bootstrapping as a method of gaining confidence in our descriptive statistics, for now.  Later on in the course, we'll look at proper simulation with a method called maximum likelihood estimation.\n",
    "\n",
    "The idea behind a bootstrap is sampling from your sample, with replacement.  The with replacement piece means that even if you've drawn a specific row from a sample before, you can still draw that sample again in the future.  \n",
    "\n",
    "Let's put these ideas into practice to try and build a better sample:"
   ]
  },
  {
   "cell_type": "code",
   "execution_count": 49,
   "id": "e10216c9",
   "metadata": {},
   "outputs": [
    {
     "name": "stdout",
     "output_type": "stream",
     "text": [
      "choice (150, 100)\n",
      "poisson (150, 100)\n",
      "normal (150, 100)\n",
      "gamma (150, 100)\n",
      "exponential (150, 100)\n"
     ]
    }
   ],
   "source": [
    "import numpy as np\n",
    "import pandas as pd\n",
    "\n",
    "def rescale(data, new_max):\n",
    "    old_max = data.max()\n",
    "    new_data = (new_max/old_max) * (data - old_max) + new_max\n",
    "    return new_data.astype(int)\n",
    "\n",
    "def sampler(data, sample_size, seed=1, method=\"uniform\", num_centers=4):\n",
    "    np.random.seed(seed)\n",
    "    index = list(range(len(data)))\n",
    "    if method == \"multimodal\":\n",
    "        start_percentile = (100//num_centers)/100\n",
    "        percentiles = [\n",
    "            np.percentile(data.shape[0], elem) \n",
    "            for elem in np.arange(\n",
    "                start_percentile, \n",
    "                1, \n",
    "                start_percentile\n",
    "            )\n",
    "        ]\n",
    "        \n",
    "        new_index = np.array([])\n",
    "        for percentile in percentiles:\n",
    "            new_index = np.append(np.random.normal(\n",
    "                loc=percentile,\n",
    "                scale=data.shape[0]//(4*num_centers),\n",
    "                size=sample_size//num_centers\n",
    "            ), new_index)\n",
    "    if method == \"uniform\":\n",
    "        new_index = np.random.choice(\n",
    "            index, size=sample_size\n",
    "        )\n",
    "    if method == \"exponential\":\n",
    "        new_index = np.random.exponential(\n",
    "            scale=data.shape[0]//2, \n",
    "            size=sample_size\n",
    "        )\n",
    "        new_index = rescale(\n",
    "            new_index, data.shape[0]-1\n",
    "        )\n",
    "    if method == \"gamma\":\n",
    "        shape = np.random.choice(\n",
    "            [0.5, 3, 5]\n",
    "        )\n",
    "        new_index = np.random.gamma(\n",
    "            shape=shape,\n",
    "            scale=data.shape[0]//2, \n",
    "            size=sample_size\n",
    "        )\n",
    "        new_index = rescale(\n",
    "            new_index, data.shape[0]-1\n",
    "        )\n",
    "    if method == \"normal\":\n",
    "        new_index = np.random.normal(\n",
    "            loc=data.shape[0]//2,\n",
    "            scale=data.shape[0]//4,\n",
    "            size=sample_size\n",
    "        )\n",
    "        new_index = rescale(\n",
    "            new_index, data.shape[0]-1\n",
    "        )\n",
    "    if method == \"poisson\":\n",
    "        new_index = np.random.poisson(\n",
    "            lam=4,\n",
    "            size=sample_size\n",
    "        )\n",
    "        new_index = rescale(\n",
    "            new_index, data.shape[0]-1\n",
    "        )\n",
    "    if isinstance(data, np.ndarray):\n",
    "        data = pd.Series(data)\n",
    "    return data.iloc[new_index]\n",
    "\n",
    "sample_size=150\n",
    "for method in [\"uniform\", \"poisson\", \"normal\", \"gamma\", \"exponential\"]:\n",
    "    data = pd.DataFrame(\n",
    "        np.random.random(size=10000).reshape(100, 100)\n",
    "    )\n",
    "    sample = sampler(\n",
    "        data, sample_size, seed=42, method=method\n",
    "    )\n",
    "    print(method, sample.shape)"
   ]
  },
  {
   "cell_type": "markdown",
   "id": "3b490228",
   "metadata": {},
   "source": [
    "As you can see, even though in this case we start with 100 samples, our sampler can generate more than 100 samples because we sample with replacement.  Additionally, we are able to randomly sample in either uniform or non-uniform way.  For instance, if we are interested in just getting samples from a certain part of the sample, like for instance from the middle, we'd use the normal distribution.  If we were interested in getting more samples "
   ]
  }
 ],
 "metadata": {
  "kernelspec": {
   "display_name": "Python 3",
   "language": "python",
   "name": "python3"
  },
  "language_info": {
   "codemirror_mode": {
    "name": "ipython",
    "version": 3
   },
   "file_extension": ".py",
   "mimetype": "text/x-python",
   "name": "python",
   "nbconvert_exporter": "python",
   "pygments_lexer": "ipython3",
   "version": "3.9.5"
  }
 },
 "nbformat": 4,
 "nbformat_minor": 5
}
